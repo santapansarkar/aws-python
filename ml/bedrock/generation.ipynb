{
 "cells": [
  {
   "cell_type": "code",
   "execution_count": 8,
   "metadata": {},
   "outputs": [],
   "source": [
    "import boto3,json\n",
    "\n",
    "boto3.setup_default_session(profile_name='sxsarkar')\n",
    "\n",
    "bedrock_runtime = boto3.client('bedrock-runtime')\n"
   ]
  },
  {
   "cell_type": "code",
   "execution_count": 25,
   "metadata": {},
   "outputs": [],
   "source": [
    "prompt = 'Write a story about school picnic'\n",
    "\n",
    "'''\n",
    "aws bedrock-runtime invoke-model \\\n",
    "--model-id anthropic.claude-v2 \\\n",
    "--body \"{\\\"prompt\\\":\\\"\\\\n\\\\nHuman:\\\\n\\\\nWrite a story about school picnic\\\\n\\\\nAssistant:\\\\n Here is a short story about a school picnic:\\\\n\\\\nIt was the last day of school before summer vacation and our class was having an end-of-the-year picnic at the park. My friends and I were so excited because it meant finally being free from homework and tests for two whole months. \\\\n\\\\nWhen we got to the park, some parent volunteers had already set up large canopies with tables of food - sandwiches, chips, fruit salad, cookies, and drinks. Our teacher, Mrs. Johnson, allowed us 30 minutes to eat before we were released to go play games. My best friend Sam and I scarfed down our lunch so we could have more time to go on the swings and jungle gym.\\\\n\\\\nAfter lunch, some of the parents organized games like sack races, three-legged races, and a water balloon toss. I wasn't very good at the races but I loved the water balloon toss. My partner was my friend Lucy and even though we didn't win, we had fun getting splashed whenever a balloon broke.\\\\n\\\\nThe picnic ended with popsicles and graduation certificates handed out by Mrs. Johnson. We took a big class picture together under one of the canopies. Then it was time to clean up and get picked up by our parents. I was tired from running around all day but also sad that I wouldn't see my friends everyday anymore. It was a fun last day of school. I couldn't wait for more pic\\\",\\\"max_tokens_to_sample\\\":300,\\\"temperature\\\":1,\\\"top_k\\\":250,\\\"top_p\\\":0.999,\\\"stop_sequences\\\":[\\\"\\\\n\\\\nHuman:\\\"],\\\"anthropic_version\\\":\\\"bedrock-2023-05-31\\\"}\" \\\n",
    "--cli-binary-format raw-in-base64-out \\\n",
    "--region us-east-1 \\\n",
    "invoke-model-output.txt\n",
    "'''\n",
    "\n",
    "kwargs = {\n",
    "    \"body\" : \"{\\\"prompt\\\":\\\"\\\\n\\\\nHuman:\\\\n\\\\n \"+ prompt +\"\\\\n\\\\nAssistant:\\\\n \\\",\\\"max_tokens_to_sample\\\":300,\\\"temperature\\\":1,\\\"top_k\\\":250,\\\"top_p\\\":0.999,\\\"stop_sequences\\\":[\\\"\\\\n\\\\nHuman:\\\"],\\\"anthropic_version\\\":\\\"bedrock-2023-05-31\\\"}\",\n",
    "    \"contentType\" : \"application/json\",\n",
    "    \"accept\" : \"application/json\",\n",
    "    \"modelId\" : 'anthropic.claude-v2'\n",
    "}"
   ]
  },
  {
   "cell_type": "code",
   "execution_count": 26,
   "metadata": {},
   "outputs": [
    {
     "name": "stdout",
     "output_type": "stream",
     "text": [
      "{'ResponseMetadata': {'RequestId': 'c877a8ad-bf3e-40b0-9fe6-9d038514b9d4', 'HTTPStatusCode': 200, 'HTTPHeaders': {'date': 'Fri, 02 Feb 2024 15:29:12 GMT', 'content-type': 'application/json', 'content-length': '1402', 'connection': 'keep-alive', 'x-amzn-requestid': 'c877a8ad-bf3e-40b0-9fe6-9d038514b9d4', 'x-amzn-bedrock-invocation-latency': '18070', 'x-amzn-bedrock-output-token-count': '300', 'x-amzn-bedrock-input-token-count': '15'}, 'RetryAttempts': 0}, 'contentType': 'application/json', 'body': <botocore.response.StreamingBody object at 0x1113119f0>}\n"
     ]
    }
   ],
   "source": [
    "response = bedrock_runtime.invoke_model(**kwargs)\n",
    "print(response)"
   ]
  },
  {
   "cell_type": "code",
   "execution_count": 23,
   "metadata": {},
   "outputs": [
    {
     "data": {
      "text/plain": [
       "{'completion': ' Here is a short story about a school picnic:\\n\\nIt was a bright and sunny morning as the buses pulled up to the school. Today was the day of our class picnic at the park. All the students were buzzing with excitement as we lined up with our lunches and filed onto the buses. Our teacher, Mrs. Smith, did a head count as we took our seats. My best friend Katie sat next to me and we chatted happily about all the fun games and activities we hoped to do at the park. \\n\\nThe bus ride went quickly as we sang songs together. Soon we had arrived at the large green park. We rushed off the buses and Mrs. Smith gathered us together. \"Okay everyone, go put your lunches on the picnic tables and then you can go play. We\\'ll have lunch in an hour,\" she announced. Katie and I ran to drop off our lunches then hurried to join a game of tag. We played hard, running around laughing and screaming for what seemed like only a few minutes. Before we knew it, Mrs. Smith was calling us to come eat lunch.\\n\\nWe sat together at the picnic tables, enjoying our sandwiches, fruit snacks, and cookies. After eating, there was still plenty of time left for more games. Some kids played frisbee while others went to the playground. Katie and I climbed across the monkey bars and slid down the slides. \\n\\nToo soon it was time to get back on the',\n",
       " 'stop_reason': 'max_tokens',\n",
       " 'stop': None}"
      ]
     },
     "execution_count": 23,
     "metadata": {},
     "output_type": "execute_result"
    }
   ],
   "source": [
    "response_body = json.loads(response.get('body').read())\n",
    "response_body"
   ]
  },
  {
   "cell_type": "code",
   "execution_count": 24,
   "metadata": {},
   "outputs": [
    {
     "data": {
      "text/plain": [
       "' Here is a short story about a school picnic:\\n\\nIt was a bright and sunny morning as the buses pulled up to the school. Today was the day of our class picnic at the park. All the students were buzzing with excitement as we lined up with our lunches and filed onto the buses. Our teacher, Mrs. Smith, did a head count as we took our seats. My best friend Katie sat next to me and we chatted happily about all the fun games and activities we hoped to do at the park. \\n\\nThe bus ride went quickly as we sang songs together. Soon we had arrived at the large green park. We rushed off the buses and Mrs. Smith gathered us together. \"Okay everyone, go put your lunches on the picnic tables and then you can go play. We\\'ll have lunch in an hour,\" she announced. Katie and I ran to drop off our lunches then hurried to join a game of tag. We played hard, running around laughing and screaming for what seemed like only a few minutes. Before we knew it, Mrs. Smith was calling us to come eat lunch.\\n\\nWe sat together at the picnic tables, enjoying our sandwiches, fruit snacks, and cookies. After eating, there was still plenty of time left for more games. Some kids played frisbee while others went to the playground. Katie and I climbed across the monkey bars and slid down the slides. \\n\\nToo soon it was time to get back on the'"
      ]
     },
     "execution_count": 24,
     "metadata": {},
     "output_type": "execute_result"
    }
   ],
   "source": [
    "completion = response_body.get('completion')\n",
    "completion"
   ]
  },
  {
   "cell_type": "code",
   "execution_count": null,
   "metadata": {},
   "outputs": [],
   "source": []
  }
 ],
 "metadata": {
  "kernelspec": {
   "display_name": "Python 3",
   "language": "python",
   "name": "python3"
  },
  "language_info": {
   "codemirror_mode": {
    "name": "ipython",
    "version": 3
   },
   "file_extension": ".py",
   "mimetype": "text/x-python",
   "name": "python",
   "nbconvert_exporter": "python",
   "pygments_lexer": "ipython3",
   "version": "3.10.3"
  }
 },
 "nbformat": 4,
 "nbformat_minor": 2
}
